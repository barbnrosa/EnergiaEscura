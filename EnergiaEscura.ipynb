{
 "cells": [
  {
   "cell_type": "markdown",
   "id": "a68ea59f",
   "metadata": {},
   "source": [
    "## Evidência Observacional de Supernovas para um Universo em Aceleração e uma Constante Cosmológica"
   ]
  },
  {
   "cell_type": "markdown",
   "id": "6f868984",
   "metadata": {},
   "source": [
    "# Introdução\n",
    "\n",
    "Neste texto, será introduzido alguns conceitos necessários para a compreensão do assunto relacionado a expansão acelerada do Universo. Além disso, será apresentado sobre observações de supernovas de alto desvio para o vermelho relatadas pela equipe de busca de supernovas High-Z [(Schmidt et al. 1998; Garnavich et al. 1998)](https://arxiv.org/abs/astro-ph/9805200) e duas outras [(Riess et al. 1998a)](https://iopscience.iop.org/article/10.1086/300499/meta), e como essas observações podem produzir resultados cosmológicos interessantes de alta significância estatística, melhorando nossa compreensão das incertezas sistemáticas. Os resultados apresentados são baseados no artigo [\"Evidência observacional de supernovas para um universo em aceleração e uma constante cosmológica\"](http://127.0.0.1:8888/?token=32c7bf3c9010d45115889deb4b9d341ad2a8b7796aa3d50f).\n",
    "\n",
    "Primeiro, vamos definir alguns conceitos como redshift, magnitude, supernova e alguns parâmetros cosmológicos."
   ]
  },
  {
   "cell_type": "markdown",
   "id": "c2d80ff9",
   "metadata": {},
   "source": [
    "# Redshift\n",
    "\n",
    "Começando por \"[redshift](https://en.wikipedia.org/wiki/Redshift)\". Em português chamamos de \"desvio para o vermelho\" e corresponde ao aumento do comprimento de onda e uma dimunuição na frequência e na energia do fóton da radiação eletromagnética. Através do redshift é possível determinar a velocidade que um objeto astronômico está se afastando da Terra. Para determinar o redshift, o espectro de luz emitido pelo objeto estudado é medido e suas características são analisadas, como linhas de absorção, linhas de emissão ou outras variações na intensidade da luz, por meio desses recursos é possível comparar com os espectros de vários elementos químicos conhecidos localizados na Terra (o hidrogênio, por exemplo, é comum no espaço). \n",
    "\n",
    "Usando o hidrogênio como exemplo, o espectro de luz que brilha através dele, mostrará um espectro específico para o hidrogênio, que tem características em intervalos regulares, como uma espécie de assinatura. Dessa forma, se a mesma linha espectral for observada de uma fonte distante no Universo, mas em comprimentos de ondas deslocados, ele também pode ser identificado como hidrogênio. Ou seja, se a mesma linha espectral for identificadas nos dois espectros mas em diferentes comprimentos de onda, é possível calcular o redshift do objeto estudado. Tecnicamente, redshift pode ser definido pela diferença relativa entre os comprimentos de onda (ou frequência) observados e emitidos de um objeto. Na cosmologia, é usado uma quantidade adimensional chamada z para se referir ao valor de um redshift. Onde $z<0$ está associado a objetos que se aproximam (blueshift) e $z>0$ esta associado a objetos que estão se afastando (redshift).\n",
    "\n",
    "# Magnitude\n",
    "\n",
    "Na astronomia, magnitude é a escala logarítimica do brilho de um objeto astronômico, medida em um determinado comprimento de onda ou em [banda passante](https://pt.wikipedia.org/wiki/Banda_passante), ou seja, o brilho das estrelas pode ser expresso por um sistema de magnitudes. A magnitude aparente, também conhecida como fotometria, é um número que mede o brilho de um corpo celeste como visto de um observador da Terra. Quanto mais brilhante um objeto parece ser, menor é o valor de sua magnitude. O sol, por exemplo, é o objeto mais brilhante no céu, com magnitude aparente de -27. As magnitudes aparentes são usadas para quantificar o brilho das fontes nos comprimentos de onda do ultravioleta, espectro visível e infravermelho. Elas geralmente são medidas em uma banda passante específica correspondente a algum sistema fotométrico, como o [sistema UBV](https://pt.wikipedia.org/wiki/Sistema_fotom%C3%A9trico_UBV). Por exemplo, uma magnitude aparente na banda B, pode ser denotada como $M_b$.\n",
    "\n",
    "# Supernova\n",
    "\n",
    "Uma supernova (SN) é uma \"explosão\" que ocorre no estágio final da evolução de algumas estrelas ou sistemas de estrelas. São de diversos tipos de SN e elas são classificadas de acordo com as características observadas nos\n",
    "seus espectros. Essa observação é feita através da fotometria, como dito antes, mostra a informação sobre a emissão em toda a faixa de comprimento de onda permitida pelo filtro utilizado.\n",
    "\n",
    "As supernovas são divididas em tipo I, que não apresentam linhas de hidrogênio nos seus espectros, e tipo II, que as apresentam. As SN do tipo I  são divididas entre as do tipo Ia, que apresentam linha de silício II (uma vez ionizado) no espectro e as que não possuem essa característica, tipos Ib e Ic. As SN do tipo II são geralmente classificadas de acordo com a forma das suas curvas de luz. Do ponto de vista da estrela ou sistema que sofre a explosão, temos uma distribuição diferente. As tipo II, Ib e Ic ocorrem devido ao colapso gravitacional de estrelas massivas (acima de 8 vezes a massa do Sol), enquanto as SN Ia têm origem na explosão termonuclear de estrelas anãs brancas em sistemas binários. Como há um limite máximo para a massa de uma anã branca (1,4 vezes a massa do Sol), todas as explosões de SN Ia são muito similares entre si, quando comparadas com os outros tipos de SN, e essa homogeneidade é fundamental para a sua aplicabilidade em cosmologia, trataremos sobre isso a seguir.\n",
    "\n",
    "# Parâmetros cosmológicos\n",
    "\n",
    "# Parâmetro de densidade\n",
    "\n",
    "O parâmetro de densidade é usado para expressar as quantidades relativas de cada ingrediente de matéria e energia em um modelo para o Universo, e é definido como:\n",
    "$$\\Omega = \\frac{\\rho}{\\rho_c}$$\n",
    "onde $\\rho_c$ é a densidade crítica necessária para que o Universo tenha curvatura exatamente zero. Conhecendo a equação de estado, termo usado para se referir à relação entre pressão $p$ e a densidade de energia de um fluido $\\rho$, é possível determinar como o parâmetro de densidade de cada componente evolui com o redshift. Os valores atuais desses parâmetros ($\\Omega_{m0}$ para a matéria, $\\Omega_{r0}$ para a radiação e $\\Omega_{\\Lambda 0}$ para a constante cosmológica) ficam em aberto, como parâmetros livres do modelo, a serem determinados a partir das observações.\n",
    "\n",
    "# Parâmetro de desaceleração\n",
    "\n",
    "# Diagrama de Hubble"
   ]
  },
  {
   "cell_type": "markdown",
   "id": "a5d6e07f",
   "metadata": {},
   "source": [
    "# Uma breve história da cosmologia de Supernovas\n",
    "\n",
    "É importante introduzir o assunto para auxiliar os leitores a conectar \n",
    "este artigo apresentado com outras abordagens para medir parâmetros cosmológicos.\n",
    "Foram observadas evidências que mostraram que Supernovas I tinham um diagrama de Hubble bem definido e sua interceptação poderia fornecer uma boa medida da constante de Hubble, apresentadas por [Kowal (1968)](https://ui.adsabs.harvard.edu/link_gateway/1968AJ.....73.1021K/doi:10.1086/110763). Em seguida, evidências mostraram que a classe espectrópica original do tipo I deveria ser dividida. Agora, as chamadas de supernovas tipo Ia, tiveram dispersões de brilho de pico 0,4 mag a 0,6 mag. Modelos teóricos sugeriram que esses eventos surgiram da explosão termonuclear de uma anã branca de carbono-oxigênio que teria crescido até a [massa de Chandrasekhar](https://en.wikipedia.org/wiki/Chandrasekhar_limit). Como as Supernovas Ia são tão luminosas ($M_b \\approx -19,5 mag$), [Colgate (1979)](https://ui.adsabs.harvard.edu/link_gateway/1979ApJ...232..404C/doi:10.1086/157300) sugeriu que observações de supernovas Ia em $z \\approx 1$ com o futuro telescópio espacial poderiam medir o parâmetro de desaceleração, $q_0$.\n",
    "\n",
    "Através de uma pesquisa metódica de supernovas baseada em CCD que espaçava observações a partir de uma lunação (período de tempo entre duas luas novas consecutivas, aproximadamente 29 dias), admitiu o uso antecipado de técnicas de subtração de imagem para revelar novos objetos, [Hansen, Nørgaard-Nielsen e Jorgensen (1987)](https://doi.org/10.1038/339523a0) detectaram SN 1988U, uma SN Ia em $z=0,31$. Neste redshift e precisão de distância, seriam necessários 100 SNe Ia para distinguir entre um universo aberto e fechado. Desta forma, como o grupo passou 2 anos para encontrar um objeto, era notável que seria necessário aplicar a esse problema detectores maiores e telescópios mais rápidos.\n",
    "\n",
    "Evidências de problemas sistemáticos também rodeavam a fotometria de supernovas, de forma que apenas aumentar o número de amostras não seria o suficiente. Como havia como base a suposição de que todos as SN Ia tinham a mesma cor intrínseca (porém incorreta), tentativas de corrigir magnitudes de supernovas para avermelhamento por poeira teve o efeito de aumentar a dispersão sobre a linha de Hubble ou alternadamente atribuir propriedades inusitadas que a poeira absorve a luz em SN Ia em outras galáxias. Além disso, supernovas bem observadas, como SN 1986G, SN 1991T, e SN 1991bg indicou que grande e real heterogeneidade estava escondida na dispersão sobre a linha de Hubble.\n",
    "\n",
    "Um banco de dados mais extenso de SNe Ia observado cuidadosamente e uniformemente foi necessário para refinar a compreensão das curvas de luz de SN Ia. O levantamento Calán/Tololo ([Hamuy et al. 1993a](https://adsabs.harvard.edu/full/1993AJ....106.2392H)) fez uma busca fotográfica sistemática de supernovas entre os ciclos da lua cheia. Essa busca foi extensa o suficiente para garantir a necessidade de observações de acompanhamento programadas, que foram complementadas pela cooperação de observadores visitantes, para coletar curvas de luz bem amostradas. A análise dos resultados de Calán/Tololo gerou uma ampla compreensão de SN Ia e demonstrou sua notável precisão de distância (após ajuste do modelo) de 0,15 mag (Hamuy et al. 1995, 1996a,b,c,d). Um esforço paralelo empregou dados do levantamento Calán/Tololo e do Harvard-Smithsonian Center for Astrophysics (CfA) para desenvolver modelos observacionais detalhados de curvas de luz de SN Ia ([Riess, Press, & Kirshner 1995](https://ui.adsabs.harvard.edu/link_gateway/1995ApJ...438L..17R/arxiv:astro-ph/9410054); [Riess 1996](https://ui.adsabs.harvard.edu/link_gateway/1996ApJ...473...88R/arxiv:astro-ph/9604143)). Este trabalho foi estendido para o método Multi-Color Light Curve Shape (MLCS) que emprega até 4 cores de fotometria em SN Ia para produzir uma excelente precisão de distância (0,15 mag) e uma estimativa estatisticamente válida da incerteza para cada objeto com uma medição da vermelhidão pela poeira para cada evento. Este trabalho também colocou restrições úteis sobre a natureza da poeira em outras galáxias. \n",
    "\n",
    "A amostra completa das curvas de luz de SN Ia próximas das amostras Calán/Tololo e CfA fornece uma base sólida para estender a relação redshift-distância para explorar parâmetros cosmológicos. A amostra de baixo redshift usada aqui tem 34 SN Ia com $z < 0,15$.\n",
    "\n",
    "Como as observações de alto desvio para o vermelho relatadas aqui consumiram grandes quantidades de tempo de observação nos melhores telescópios do mundo, houve um forte incentivo para encontrar maneiras eficientes de usar o conjunto mínimo de observações para derivar a distância de cada supernova. Uma exploração recente disso por Riess et al. (1998a) é o método “Snapshot” que usa apenas um único espectro e um único conjunto de medidas fotométricas para inferir a distância de luminosidade para uma SN Ia com 10% de precisão. No artigo foi usado o método \"snapshot\" para seis SN Ia com dados espaçados, mas um programa astutamente projetado que pretendia usar a abordagem de snapshot poderia ser ainda mais eficaz na extração de resultados úteis de pequenas fatias de tempo de observação.\n",
    "\n",
    "A aplicação de CCDs de grande formato e técnicas sofistiadas de análise de imagens pelo Supernova Cosmology Project levaram à descoberta do SN 1992bi ($z=0,46$) seguido por mais 6 SNe Ia em $z \\approx 0,4$. Admitindo uma correção para a relação luminosidade/forma da curva de luz (mas nenhuma extinção para a galáxia hospedeira), a comparação desses SN Ia com a amostra de Calán/Tololo deu uma indicação inicial de \"baixo\" $\\Omega_{\\Lambda}$ e \"alto\" $\\Omega_M: \\Omega_{\\Lambda} = 0,06^{+0,28} _{-0,34}$ para um universo plano e $\\Omega_M = 0,88^{+0,69} _{-0,60}$ para um universo sem a constante cosmológica ($\\Omega \\equiv 0$). A adição de um alto redshift ($z=0,83$) de uma SN Ia observada com HST (Hubble Spacial Telescope) tem um efeito significativo nos resultados: $\\Omega=0,4 \\pm 0,2$ para um universo plano, e $\\Omega_M = 0,2 \\pm 0,4$ para um universo com $\\Omega \\equiv 0$. Isso ilustra o quão jovem e volátil o assunto é atualmente."
   ]
  },
  {
   "cell_type": "markdown",
   "id": "c78534e6",
   "metadata": {},
   "source": [
    "# Observações\n",
    "\n"
   ]
  },
  {
   "cell_type": "code",
   "execution_count": null,
   "id": "1cd217b7",
   "metadata": {},
   "outputs": [],
   "source": []
  }
 ],
 "metadata": {
  "kernelspec": {
   "display_name": "Python 3 (ipykernel)",
   "language": "python",
   "name": "python3"
  },
  "language_info": {
   "codemirror_mode": {
    "name": "ipython",
    "version": 3
   },
   "file_extension": ".py",
   "mimetype": "text/x-python",
   "name": "python",
   "nbconvert_exporter": "python",
   "pygments_lexer": "ipython3",
   "version": "3.8.10"
  }
 },
 "nbformat": 4,
 "nbformat_minor": 5
}
